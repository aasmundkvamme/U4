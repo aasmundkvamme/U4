{
 "cells": [
  {
   "cell_type": "code",
   "execution_count": 4,
   "metadata": {},
   "outputs": [],
   "source": [
    "import pyodbc\n",
    "import pandas as pd\n",
    "import os\n",
    "\n",
    "conn_str = os.environ[\"Connection_SQL\"]\n",
    "\n",
    "\n",
    "# CSV file path\n",
    "innfil = 'users_REST_241017.csv'\n",
    "\n",
    "# Read the CSV file\n",
    "df = pd.read_csv(innfil).dropna(axis=0, how='any') \n",
    "\n",
    "# Create a connection to Azure"
   ]
  },
  {
   "cell_type": "code",
   "execution_count": 8,
   "metadata": {},
   "outputs": [
    {
     "name": "stderr",
     "output_type": "stream",
     "text": [
      "/tmp/ipykernel_22695/2143105472.py:14: FutureWarning: Series.__getitem__ treating keys as positions is deprecated. In a future version, integer keys will always be treated as labels (consistent with DataFrame behavior). To access a value by position, use `ser.iloc[pos]`\n",
      "  cursor.execute(query, (row[0], row[1]))\n"
     ]
    },
    {
     "ename": "ProgrammingError",
     "evalue": "('42S22', \"[42S22] [Microsoft][ODBC Driver 18 for SQL Server][SQL Server]Invalid column name 'var1'. (207) (SQLExecDirectW)\")",
     "output_type": "error",
     "traceback": [
      "\u001b[0;31m---------------------------------------------------------------------------\u001b[0m",
      "\u001b[0;31mProgrammingError\u001b[0m                          Traceback (most recent call last)",
      "Cell \u001b[0;32mIn[8], line 14\u001b[0m\n\u001b[1;32m      4\u001b[0m \u001b[38;5;28;01mfor\u001b[39;00m index, row \u001b[38;5;129;01min\u001b[39;00m df\u001b[38;5;241m.\u001b[39miterrows():\n\u001b[1;32m      5\u001b[0m     query \u001b[38;5;241m=\u001b[39m \u001b[38;5;124m\"\"\"\u001b[39m\n\u001b[1;32m      6\u001b[0m \u001b[38;5;124m    MERGE INTO [dbo].[akv_user_id_kobling] AS target \u001b[39m\n\u001b[1;32m      7\u001b[0m \u001b[38;5;124m    USING (VALUES (?, ?)) AS source (var1, var2) \u001b[39m\n\u001b[0;32m   (...)\u001b[0m\n\u001b[1;32m     12\u001b[0m \u001b[38;5;124m        INSERT ([var1], [var2]) VALUES (source.[var1], source.[var2]);\u001b[39m\n\u001b[1;32m     13\u001b[0m \u001b[38;5;124m    \u001b[39m\u001b[38;5;124m\"\"\"\u001b[39m\n\u001b[0;32m---> 14\u001b[0m     \u001b[43mcursor\u001b[49m\u001b[38;5;241;43m.\u001b[39;49m\u001b[43mexecute\u001b[49m\u001b[43m(\u001b[49m\u001b[43mquery\u001b[49m\u001b[43m,\u001b[49m\u001b[43m \u001b[49m\u001b[43m(\u001b[49m\u001b[43mrow\u001b[49m\u001b[43m[\u001b[49m\u001b[38;5;241;43m0\u001b[39;49m\u001b[43m]\u001b[49m\u001b[43m,\u001b[49m\u001b[43m \u001b[49m\u001b[43mrow\u001b[49m\u001b[43m[\u001b[49m\u001b[38;5;241;43m1\u001b[39;49m\u001b[43m]\u001b[49m\u001b[43m)\u001b[49m\u001b[43m)\u001b[49m\n\u001b[1;32m     15\u001b[0m conn\u001b[38;5;241m.\u001b[39mcommit()\n",
      "\u001b[0;31mProgrammingError\u001b[0m: ('42S22', \"[42S22] [Microsoft][ODBC Driver 18 for SQL Server][SQL Server]Invalid column name 'var1'. (207) (SQLExecDirectW)\")"
     ]
    }
   ],
   "source": [
    "query = \"\"\"\n",
    "    MERGE INTO [dbo].[akv_user_id_kobling] AS target \n",
    "    USING (VALUES (?, ?)) AS source (user_id, sis_user_id) \n",
    "    ON target.[user_id] = source.[user_id]\n",
    "    WHEN MATCHED THEN\n",
    "        UPDATE SET target.[sis_user_id] = source.[sis_user_id]\n",
    "    WHEN NOT MATCHED THEN\n",
    "        INSERT ([user_id], [sis_user_id]) VALUES (source.[user_id], source.[sis_user_id]);\n",
    "\"\"\"\n",
    "with pyodbc.connect(conn_str) as conn:\n",
    "    cursor = conn.cursor()\n",
    "    # Upsert the data\n",
    "    for index, row in df.iterrows():\n",
    "        user_id = row[0]\n",
    "        sis_user_id = row[1]\n",
    "        cursor.execute(query, (user_id, sis_user_id))\n",
    "    conn.commit()"
   ]
  }
 ],
 "metadata": {
  "kernelspec": {
   "display_name": "Python 3",
   "language": "python",
   "name": "python3"
  },
  "language_info": {
   "codemirror_mode": {
    "name": "ipython",
    "version": 3
   },
   "file_extension": ".py",
   "mimetype": "text/x-python",
   "name": "python",
   "nbconvert_exporter": "python",
   "pygments_lexer": "ipython3",
   "version": "3.10.12"
  }
 },
 "nbformat": 4,
 "nbformat_minor": 2
}
