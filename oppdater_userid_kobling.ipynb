{
 "cells": [
  {
   "cell_type": "code",
   "execution_count": 8,
   "metadata": {},
   "outputs": [],
   "source": [
    "import pandas as pd\n",
    "import os\n",
    "import requests\n",
    "from datetime import datetime, date, timedelta\n",
    "import time\n",
    "import pyodbc\n",
    "conn_str = os.environ['Connection_SQL']\n",
    "\n",
    "nye = pd.read_csv(f\"nye_users_17102024.csv\", sep=\",\", usecols=['key.id'])['key.id'].to_list()"
   ]
  },
  {
   "cell_type": "code",
   "execution_count": 12,
   "metadata": {},
   "outputs": [],
   "source": [
    "sis_user_ids = []\n",
    "parametreCanvas = {}\n",
    "hodeCanvas = {'Authorization': 'Bearer ' + os.environ[\"tokenCanvas\"]}\n",
    "for user_id in nye:\n",
    "    url = f\"https://hvl.instructure.com/api/v1/users/{user_id}\"\n",
    "    respons = requests.get(url, headers=hodeCanvas, params=parametreCanvas)\n",
    "    data = respons.json()\n",
    "    sis_user_ids.append([user_id, data['sis_user_id']])\n",
    "sud = pd.DataFrame(sis_user_ids)"
   ]
  },
  {
   "cell_type": "code",
   "execution_count": 13,
   "metadata": {},
   "outputs": [
    {
     "data": {
      "text/html": [
       "<div>\n",
       "<style scoped>\n",
       "    .dataframe tbody tr th:only-of-type {\n",
       "        vertical-align: middle;\n",
       "    }\n",
       "\n",
       "    .dataframe tbody tr th {\n",
       "        vertical-align: top;\n",
       "    }\n",
       "\n",
       "    .dataframe thead th {\n",
       "        text-align: right;\n",
       "    }\n",
       "</style>\n",
       "<table border=\"1\" class=\"dataframe\">\n",
       "  <thead>\n",
       "    <tr style=\"text-align: right;\">\n",
       "      <th></th>\n",
       "      <th>0</th>\n",
       "      <th>1</th>\n",
       "    </tr>\n",
       "  </thead>\n",
       "  <tbody>\n",
       "    <tr>\n",
       "      <th>0</th>\n",
       "      <td>109050</td>\n",
       "      <td>fs:203:1313585</td>\n",
       "    </tr>\n",
       "    <tr>\n",
       "      <th>1</th>\n",
       "      <td>109049</td>\n",
       "      <td>fs:203:1313377</td>\n",
       "    </tr>\n",
       "    <tr>\n",
       "      <th>2</th>\n",
       "      <td>109048</td>\n",
       "      <td>fs:203:1313334</td>\n",
       "    </tr>\n",
       "  </tbody>\n",
       "</table>\n",
       "</div>"
      ],
      "text/plain": [
       "        0               1\n",
       "0  109050  fs:203:1313585\n",
       "1  109049  fs:203:1313377\n",
       "2  109048  fs:203:1313334"
      ]
     },
     "execution_count": 13,
     "metadata": {},
     "output_type": "execute_result"
    }
   ],
   "source": [
    "sud"
   ]
  },
  {
   "cell_type": "code",
   "execution_count": 3,
   "metadata": {},
   "outputs": [],
   "source": [
    "query = \"\"\"\n",
    "    MERGE INTO [dbo].[akv_user_id_kobling] AS target \n",
    "    USING (VALUES (?, ?)) AS source (user_id, sis_user_id) \n",
    "    ON target.[user_id] = source.[user_id]\n",
    "    WHEN MATCHED THEN\n",
    "        UPDATE SET target.[sis_user_id] = source.[sis_user_id]\n",
    "    WHEN NOT MATCHED THEN\n",
    "        INSERT ([user_id], [sis_user_id]) VALUES (source.[user_id], source.[sis_user_id]);\n",
    "\"\"\"\n"
   ]
  },
  {
   "cell_type": "code",
   "execution_count": 9,
   "metadata": {},
   "outputs": [
    {
     "data": {
      "text/plain": [
       "[109050, 109049, 109048]"
      ]
     },
     "execution_count": 9,
     "metadata": {},
     "output_type": "execute_result"
    }
   ],
   "source": [
    "nye"
   ]
  },
  {
   "cell_type": "code",
   "execution_count": 15,
   "metadata": {},
   "outputs": [],
   "source": [
    "with pyodbc.connect(conn_str) as conn:\n",
    "    cursor = conn.cursor()\n",
    "    # Upsert the data\n",
    "    for index, row in sud.iterrows():\n",
    "        user_id = str(row[0])\n",
    "        sis_user_id = str(row[1])\n",
    "        cursor.execute(query, (user_id, sis_user_id))\n",
    "    conn.commit()"
   ]
  }
 ],
 "metadata": {
  "kernelspec": {
   "display_name": "Python 3",
   "language": "python",
   "name": "python3"
  },
  "language_info": {
   "codemirror_mode": {
    "name": "ipython",
    "version": 3
   },
   "file_extension": ".py",
   "mimetype": "text/x-python",
   "name": "python",
   "nbconvert_exporter": "python",
   "pygments_lexer": "ipython3",
   "version": "3.10.12"
  }
 },
 "nbformat": 4,
 "nbformat_minor": 2
}
