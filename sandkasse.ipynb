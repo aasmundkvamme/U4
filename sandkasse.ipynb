{
 "cells": [
  {
   "cell_type": "code",
   "execution_count": 1,
   "metadata": {},
   "outputs": [],
   "source": [
    "import requests\n",
    "import pandas as pd\n",
    "import gzip\n",
    "from datetime import datetime, timedelta, date\n",
    "import time\n",
    "import os\n",
    "import io\n",
    "import pyodbc\n",
    "\n",
    "CD2_base_url = os.environ['CD2_base_url']\n",
    "CD2_client_id = os.environ['CD2_client_id']\n",
    "CD2_client_secret = os.environ['CD2_client_secret']\n",
    "\n",
    "conn_str = os.environ[\"Connection_SQL\"]"
   ]
  },
  {
   "cell_type": "code",
   "execution_count": 2,
   "metadata": {},
   "outputs": [
    {
     "name": "stdout",
     "output_type": "stream",
     "text": [
      "0.21518339999965974\n"
     ]
    }
   ],
   "source": [
    "tabell = \"enrollments\"\n",
    "sist_oppdatert = (date.today() - timedelta(days=1)).isoformat() + \"Z\"\n",
    "start_oppdatering = time.perf_counter()\n",
    "with pyodbc.connect(conn_str) as conn:\n",
    "    cursor = conn.cursor()\n",
    "    try:\n",
    "        query = \"\"\"\n",
    "        MERGE INTO [dbo].[akv_sist_oppdatert] AS target \n",
    "        USING (VALUES (?, ?)) AS source (tabell, sist_oppdatert) \n",
    "        ON target.[tabell] = source.[tabell]\n",
    "        WHEN MATCHED THEN\n",
    "            UPDATE SET target.[sist_oppdatert] = source.[sist_oppdatert]\n",
    "        WHEN NOT MATCHED THEN\n",
    "            INSERT ([tabell], [sist_oppdatert]) VALUES (source.[tabell], source.[sist_oppdatert]);\n",
    "        \"\"\" \n",
    "        cursor.execute(query, (tabell, sist_oppdatert))\n",
    "        conn.commit()\n",
    "    except pyodbc.Error as e:\n",
    "        print(f\"Feil ved opplasting av sist oppdatert: {e}\")\n",
    "print(time.perf_counter() - start_oppdatering)"
   ]
  }
 ],
 "metadata": {
  "kernelspec": {
   "display_name": "Python 3",
   "language": "python",
   "name": "python3"
  },
  "language_info": {
   "codemirror_mode": {
    "name": "ipython",
    "version": 3
   },
   "file_extension": ".py",
   "mimetype": "text/x-python",
   "name": "python",
   "nbconvert_exporter": "python",
   "pygments_lexer": "ipython3",
   "version": "3.10.12"
  }
 },
 "nbformat": 4,
 "nbformat_minor": 2
}
