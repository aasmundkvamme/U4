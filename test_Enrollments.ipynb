{
 "cells": [
  {
   "cell_type": "code",
   "execution_count": 6,
   "metadata": {},
   "outputs": [],
   "source": [
    "import logging\n",
    "import requests\n",
    "import pyodbc\n",
    "import os\n",
    "import io\n",
    "from datetime import datetime, date, timedelta\n",
    "import time\n",
    "import json\n",
    "import gzip\n",
    "import pandas as pd\n",
    "import traceback\n",
    "import numpy as np\n",
    "\n",
    "idag = datetime.now()\n",
    "igår = idag - timedelta(days=1)\n",
    "år = idag.year\n",
    "måned = idag.month\n",
    "dag = idag.day\n",
    "if måned <= 7:\n",
    "    termin = \"VÅR\"\n",
    "else:\n",
    "    termin = \"HØST\"\n",
    "\n",
    "CD2_base_url = \"https://api-gateway.instructure.com\"\n",
    "CD2_client_id = os.environ['CD2_client_id']\n",
    "CD2_client_secret = os.environ['CD2_client_secret']\n",
    "conn_str = os.environ[\"Connection_SQL\"]"
   ]
  },
  {
   "cell_type": "code",
   "execution_count": 2,
   "metadata": {},
   "outputs": [],
   "source": [
    "def akv_finn_sist_oppdatert(tabell):\n",
    "    \"\"\"\n",
    "    Returner den siste oppdateringstida for den gitte tabellen fra akv_sist_oppdatert-tabellen.\n",
    "    Hvis ingen dato er gitt (eller vi ikkje får kontakt med databasen), returner igår.\n",
    "    \"\"\"\n",
    "    try:\n",
    "        with pyodbc.connect(conn_str) as connection:\n",
    "            cursor = connection.cursor()\n",
    "            query = \"\"\"\n",
    "            SELECT [sist_oppdatert] FROM [dbo].[akv_sist_oppdatert]\n",
    "            WHERE [tabell] = ?\n",
    "            \"\"\"\n",
    "            cursor.execute(query, (tabell,))\n",
    "            row = cursor.fetchone()\n",
    "            if row:\n",
    "                logging.debug(f\"{tabell} er sist oppdatert (Azure): {row[0].isoformat() + 'Z'}\")\n",
    "                return row[0].isoformat() + \"Z\"\n",
    "            \n",
    "    except pyodbc.Error as exc:\n",
    "        logging.debug(f\"{tabell} er sist oppdatert (lokal): {(date.today() - timedelta(days=1)).isoformat() + 'Z'}\") \n",
    "        return (date.today() - timedelta(days=1)).isoformat() + \"Z\"\n",
    "\n",
    "\n",
    "def akv_lagre_sist_oppdatert(tabell, dato):\n",
    "    \"\"\"\n",
    "    Lagre datoen for siste oppdatering av tabell i Azure eller lokalt (dersom vi ikkje får kontakt med databasen).\n",
    "    \"\"\"\n",
    "    \n",
    "    try:\n",
    "        with pyodbc.connect(conn_str) as conn:\n",
    "            cursor = conn.cursor()\n",
    "            query = \"\"\"\n",
    "            MERGE INTO [dbo].[akv_sist_oppdatert] AS target \n",
    "            USING (VALUES (?, ?)) AS source (tabell, sist_oppdatert) \n",
    "            ON target.[tabell] = source.[tabell]\n",
    "            WHEN MATCHED THEN\n",
    "                UPDATE SET target.[sist_oppdatert] = source.[sist_oppdatert]\n",
    "            WHEN NOT MATCHED THEN\n",
    "                INSERT ([tabell], [sist_oppdatert]) VALUES (source.[tabell], source.[sist_oppdatert]);\n",
    "            \"\"\" \n",
    "            cursor.execute(query, (tabell, dato))\n",
    "            conn.commit()\n",
    "            logging.debug(f\"{tabell} er sist oppdatert (Azure): {dato}\")\n",
    "    except pyodbc.Error as e:\n",
    "        with open(f'sist_oppdatert_{tabell}.txt', 'w') as f_out:\n",
    "            f_out.write(dato)\n",
    "            logging.debug(f\"{tabell} er sist oppdatert (lokal): {dato}\")\n",
    "    return None"
   ]
  },
  {
   "cell_type": "code",
   "execution_count": 3,
   "metadata": {},
   "outputs": [],
   "source": [
    "def akv_hent_CD2_access_token():\n",
    "    be_om_access_token = requests.request(\n",
    "        \"POST\",\n",
    "        f\"{CD2_base_url}/ids/auth/login\",\n",
    "        data={'grant_type': 'client_credentials'},\n",
    "        auth=(CD2_client_id, CD2_client_secret)\n",
    "        )\n",
    "    if be_om_access_token.status_code == 200:\n",
    "        CD2_access_token = be_om_access_token.json()['access_token']\n",
    "        return CD2_access_token\n",
    "    else:\n",
    "        feilmelding = f\"Klarte ikkje å skaffe access_token, feil {be_om_access_token.status_code}\"\n",
    "        logging.error(feilmelding)\n",
    "        return feilmelding\n",
    "\n",
    "\n",
    "def akv_hent_CD2_filar(innfil, token, svar):\n",
    "    requesturl = f\"{CD2_base_url}/dap/object/url\"\n",
    "    payload = f\"{svar['objects']}\"\n",
    "    payload = payload.replace('\\'', '\\\"')\n",
    "    headers = {'x-instauth': token, 'Content-Type': 'text/plain'}\n",
    "    r4 = requests.request(\"POST\", requesturl, headers=headers, data=payload)\n",
    "    if r4.status_code == 200:\n",
    "        respons4 = r4.json()\n",
    "        url = respons4['urls'][innfil]['url']\n",
    "        data = requests.request(\"GET\", url)\n",
    "        buffer = io.BytesIO(data.content)\n",
    "        with gzip.GzipFile(fileobj=buffer, mode='rb') as utpakka_fil:\n",
    "            utpakka_data = utpakka_fil.read().decode()\n",
    "    return utpakka_data"
   ]
  },
  {
   "cell_type": "code",
   "execution_count": 4,
   "metadata": {},
   "outputs": [],
   "source": [
    "def akv_les_CD2_tabell(tabell):\n",
    "    CD2_access_token = akv_hent_CD2_access_token()\n",
    "    headers = {'x-instauth': CD2_access_token, 'Content-Type': 'text/plain'}\n",
    "    sist_oppdatert = akv_finn_sist_oppdatert(tabell)\n",
    "    payload = '{\"format\": \"csv\", \"since\": \\\"%s\\\"}' % (sist_oppdatert)\n",
    "    requesturl = f\"{CD2_base_url}/dap/query/canvas/table/{tabell}/data\"\n",
    "    print(f\"Sender søk til {requesturl}\")\n",
    "    try:\n",
    "        r = requests.request(\"POST\", requesturl, headers=headers, data=payload)\n",
    "        r.raise_for_status()\n",
    "        respons = r.json()\n",
    "        id = respons['id']\n",
    "        vent = True\n",
    "        while vent:\n",
    "            requesturl2 = f\"{CD2_base_url}/dap//job/{id}\"\n",
    "            r2 = requests.request(\"GET\", requesturl2, headers=headers)\n",
    "            time.sleep(5)\n",
    "            respons2 = r2.json()\n",
    "            print(respons2)\n",
    "            if respons2['status'] == \"complete\":\n",
    "                vent = False\n",
    "                filar = respons2['objects']\n",
    "        dr_liste = []\n",
    "        print(filar)\n",
    "        for fil in filar:\n",
    "            data = io.StringIO(akv_hent_CD2_filar(fil['id'], CD2_access_token, respons2))\n",
    "            df = pd.read_csv(data, sep=\",\")\n",
    "            dr_liste.append(df)\n",
    "        alledata = pd.concat(df for df in dr_liste if not df.empty)\n",
    "        return alledata, sist_oppdatert, respons2['until']\n",
    "    except requests.exceptions.RequestException as exc:\n",
    "        raise exc"
   ]
  },
  {
   "cell_type": "code",
   "execution_count": 7,
   "metadata": {},
   "outputs": [],
   "source": [
    "tabell = \"Canvas_Enrollments\"\n",
    "if os.path.exists(f'loggfil-{tabell}.log'):\n",
    "    os.remove(f'loggfil-{tabell}.log')\n",
    "\n",
    "# Opprett logger\n",
    "logger = logging.getLogger('my_logger')\n",
    "logger.setLevel(logging.DEBUG)  # Sett ønsket loggnivå\n",
    "\n",
    "# Opprett formatter\n",
    "formatter = logging.Formatter('%(asctime)s - %(name)s - %(levelname)s - %(message)s')\n",
    "\n",
    "# Opprett filhandler for å logge til fil\n",
    "file_handler = logging.FileHandler(f'loggfil-{tabell}.log')\n",
    "file_handler.setLevel(logging.DEBUG)\n",
    "file_handler.setFormatter(formatter)\n",
    "\n",
    "# Opprett konsollhandler for å logge til konsollen\n",
    "console_handler = logging.StreamHandler()\n",
    "console_handler.setLevel(logging.DEBUG)\n",
    "console_handler.setFormatter(formatter)\n",
    "\n",
    "# Legg til handlerne i loggeren\n",
    "logger.addHandler(file_handler)\n",
    "logger.addHandler(console_handler)"
   ]
  },
  {
   "cell_type": "code",
   "execution_count": 8,
   "metadata": {},
   "outputs": [],
   "source": [
    "start_Canvas_Enrollments = time.perf_counter()\n",
    "with pyodbc.connect(conn_str) as conn:\n",
    "    cursor = conn.cursor()\n",
    "    try:\n",
    "        query = \"\"\"\n",
    "        SELECT ALL * FROM [stg].[Canvas_Terms]\n",
    "        \"\"\"\n",
    "        cursor.execute(query)\n",
    "        row = cursor.fetchall()\n",
    "        terminar = []\n",
    "        for t in row:\n",
    "            try:\n",
    "                term_id = t[0]\n",
    "                name = t[1]\n",
    "                start_at = t[2]\n",
    "                end_at = t[3]\n",
    "                created_at = t[4]\n",
    "                terminar.append([term_id, name, start_at, end_at, created_at])\n",
    "            except IndexError:\n",
    "                logger.error(\"Ingen data i denne raden: {t}\")\n",
    "    except pyodbc.Error as e:\n",
    "        logger.error(f\"Feil: {e}\")"
   ]
  },
  {
   "cell_type": "code",
   "execution_count": 10,
   "metadata": {},
   "outputs": [],
   "source": [
    "\n",
    "aktuelle_terminar = []\n",
    "try:\n",
    "    for t in terminar:\n",
    "        desimal = int(år) + 0.5*(termin == 'HØST')\n",
    "        if '-' in t[1]:\n",
    "            start_termin = t[1].split('-')[0]\n",
    "            slutt_termin = t[1].split('-')[1]\n",
    "            start_år = start_termin.split(' ')[0]\n",
    "            slutt_år = slutt_termin.split(' ')[0]\n",
    "            start_semester = start_termin.split(' ')[1]\n",
    "            slutt_semester = slutt_termin.split(' ')[1]\n",
    "            start_desimal = int(start_år) + 0.5*(start_semester == 'HØST')\n",
    "            slutt_desimal = int(slutt_år) + 0.5*(slutt_semester == 'HØST')\n",
    "            if start_desimal <= desimal <= slutt_desimal:\n",
    "                aktuelle_terminar.append(t[0])\n",
    "            else:\n",
    "                pass\n",
    "        elif t[1] == f\"{str(år)} {termin}\":\n",
    "            aktuelle_terminar.append(t[0])\n",
    "        else:\n",
    "            pass\n",
    "except:\n",
    "    logger.error(f\"Feil: {traceback.format_exc()}\")"
   ]
  },
  {
   "cell_type": "code",
   "execution_count": 12,
   "metadata": {},
   "outputs": [],
   "source": [
    "with pyodbc.connect(conn_str) as conn:\n",
    "    cursor = conn.cursor()\n",
    "    try:\n",
    "        query = \"\"\"\n",
    "        SELECT ALL * FROM [stg].[Canvas_Courses]\n",
    "        \"\"\"\n",
    "        cursor.execute(query)\n",
    "        row = cursor.fetchall()\n",
    "        aktuelle_emne = []\n",
    "        for emne in row:\n",
    "            try:\n",
    "                if emne[4] in aktuelle_terminar:\n",
    "                    aktuelle_emne.append(emne[0])\n",
    "            except IndexError:\n",
    "                pass\n",
    "    except pyodbc.Error as e:\n",
    "        logger.error(f\"Feil: {e}\")"
   ]
  },
  {
   "cell_type": "code",
   "execution_count": 3,
   "metadata": {},
   "outputs": [
    {
     "ename": "NameError",
     "evalue": "name 'akv_les_CD2_tabell' is not defined",
     "output_type": "error",
     "traceback": [
      "\u001b[0;31m---------------------------------------------------------------------------\u001b[0m",
      "\u001b[0;31mNameError\u001b[0m                                 Traceback (most recent call last)",
      "Cell \u001b[0;32mIn[3], line 2\u001b[0m\n\u001b[1;32m      1\u001b[0m tabell \u001b[38;5;241m=\u001b[39m \u001b[38;5;124m\"\u001b[39m\u001b[38;5;124menrollments\u001b[39m\u001b[38;5;124m\"\u001b[39m\n\u001b[0;32m----> 2\u001b[0m resultat \u001b[38;5;241m=\u001b[39m \u001b[43makv_les_CD2_tabell\u001b[49m(tabell)\n",
      "\u001b[0;31mNameError\u001b[0m: name 'akv_les_CD2_tabell' is not defined"
     ]
    }
   ],
   "source": [
    "tabell = \"enrollments\"\n",
    "resultat = akv_les_CD2_tabell(tabell)"
   ]
  },
  {
   "cell_type": "code",
   "execution_count": 2,
   "metadata": {},
   "outputs": [
    {
     "ename": "NameError",
     "evalue": "name 'resultat' is not defined",
     "output_type": "error",
     "traceback": [
      "\u001b[0;31m---------------------------------------------------------------------------\u001b[0m",
      "\u001b[0;31mNameError\u001b[0m                                 Traceback (most recent call last)",
      "Cell \u001b[0;32mIn[2], line 1\u001b[0m\n\u001b[0;32m----> 1\u001b[0m enrollments \u001b[38;5;241m=\u001b[39m \u001b[43mresultat\u001b[49m[\u001b[38;5;241m0\u001b[39m][[\u001b[38;5;124m'\u001b[39m\u001b[38;5;124mkey.id\u001b[39m\u001b[38;5;124m'\u001b[39m, \u001b[38;5;124m'\u001b[39m\u001b[38;5;124mvalue.user_id\u001b[39m\u001b[38;5;124m'\u001b[39m, \u001b[38;5;124m'\u001b[39m\u001b[38;5;124mvalue.course_id\u001b[39m\u001b[38;5;124m'\u001b[39m, \u001b[38;5;124m'\u001b[39m\u001b[38;5;124mvalue.type\u001b[39m\u001b[38;5;124m'\u001b[39m, \u001b[38;5;124m'\u001b[39m\u001b[38;5;124mvalue.created_at\u001b[39m\u001b[38;5;124m'\u001b[39m, \u001b[38;5;124m'\u001b[39m\u001b[38;5;124mvalue.updated_at\u001b[39m\u001b[38;5;124m'\u001b[39m, \u001b[38;5;124m'\u001b[39m\u001b[38;5;124mvalue.workflow_state\u001b[39m\u001b[38;5;124m'\u001b[39m, \u001b[38;5;124m'\u001b[39m\u001b[38;5;124mvalue.total_activity_time\u001b[39m\u001b[38;5;124m'\u001b[39m, \u001b[38;5;124m'\u001b[39m\u001b[38;5;124mvalue.last_activity_at\u001b[39m\u001b[38;5;124m'\u001b[39m]]\n\u001b[1;32m      2\u001b[0m enrollments[\u001b[38;5;124m'\u001b[39m\u001b[38;5;124msis_user_id\u001b[39m\u001b[38;5;124m'\u001b[39m] \u001b[38;5;241m=\u001b[39m \u001b[38;5;124m'\u001b[39m\u001b[38;5;124m'\u001b[39m\n",
      "\u001b[0;31mNameError\u001b[0m: name 'resultat' is not defined"
     ]
    }
   ],
   "source": [
    "enrollments = resultat[0][['key.id', 'value.user_id', 'value.course_id', 'value.type', 'value.created_at', 'value.updated_at', 'value.workflow_state', 'value.total_activity_time', 'value.last_activity_at']]\n",
    "enrollments['sis_user_id'] = ''"
   ]
  },
  {
   "cell_type": "code",
   "execution_count": 1,
   "metadata": {},
   "outputs": [
    {
     "ename": "NameError",
     "evalue": "name 'enrollments' is not defined",
     "output_type": "error",
     "traceback": [
      "\u001b[0;31m---------------------------------------------------------------------------\u001b[0m",
      "\u001b[0;31mNameError\u001b[0m                                 Traceback (most recent call last)",
      "Cell \u001b[0;32mIn[1], line 1\u001b[0m\n\u001b[0;32m----> 1\u001b[0m \u001b[43menrollments\u001b[49m\n",
      "\u001b[0;31mNameError\u001b[0m: name 'enrollments' is not defined"
     ]
    }
   ],
   "source": [
    "enrollments"
   ]
  }
 ],
 "metadata": {
  "kernelspec": {
   "display_name": "Python 3",
   "language": "python",
   "name": "python3"
  },
  "language_info": {
   "codemirror_mode": {
    "name": "ipython",
    "version": 3
   },
   "file_extension": ".py",
   "mimetype": "text/x-python",
   "name": "python",
   "nbconvert_exporter": "python",
   "pygments_lexer": "ipython3",
   "version": "3.10.12"
  }
 },
 "nbformat": 4,
 "nbformat_minor": 2
}
